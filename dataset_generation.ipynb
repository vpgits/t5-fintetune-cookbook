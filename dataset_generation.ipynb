{
 "cells": [
  {
   "cell_type": "code",
   "execution_count": null,
   "metadata": {},
   "outputs": [],
   "source": [
    "from fireworks import FireworksClient\n",
    "\n",
    "# Create a client instance\n",
    "client = FireworksClient()\n",
    "\n",
    "# Make a request to the \"llama2 7b\" chat\n",
    "response = client.request_chat(\"llama2 7b\")\n",
    "\n",
    "# Print the response\n",
    "print(response)\n"
   ]
  },
  {
   "cell_type": "code",
   "execution_count": 3,
   "metadata": {},
   "outputs": [],
   "source": [
    "from dotenv import load_dotenv\n",
    "import os\n",
    "\n",
    "load_dotenv()\n",
    "GOOGLE_API_KEY = os.getenv('GOOGLE_API_KEY')"
   ]
  },
  {
   "cell_type": "code",
   "execution_count": 4,
   "metadata": {},
   "outputs": [
    {
     "name": "stderr",
     "output_type": "stream",
     "text": [
      "/home/vpmb/Documents/python/dataset-generation/venv/lib/python3.11/site-packages/tqdm/auto.py:21: TqdmWarning: IProgress not found. Please update jupyter and ipywidgets. See https://ipywidgets.readthedocs.io/en/stable/user_install.html\n",
      "  from .autonotebook import tqdm as notebook_tqdm\n"
     ]
    }
   ],
   "source": [
    "import pathlib\n",
    "import textwrap\n",
    "\n",
    "import google.generativeai as genai\n",
    "\n",
    "genai.configure(api_key=GOOGLE_API_KEY)\n",
    "\n",
    "from IPython.display import display\n",
    "from IPython.display import Markdown\n",
    "\n",
    "\n",
    "def to_markdown(text):\n",
    "  text = text.replace('•', '  *')\n",
    "  return Markdown(textwrap.indent(text, '> ', predicate=lambda _: True))"
   ]
  },
  {
   "cell_type": "code",
   "execution_count": 5,
   "metadata": {},
   "outputs": [
    {
     "name": "stdout",
     "output_type": "stream",
     "text": [
      "models/gemini-pro\n",
      "models/gemini-pro-vision\n"
     ]
    }
   ],
   "source": [
    "for m in genai.list_models():\n",
    "  if 'generateContent' in m.supported_generation_methods:\n",
    "    print(m.name)"
   ]
  },
  {
   "cell_type": "code",
   "execution_count": 6,
   "metadata": {},
   "outputs": [],
   "source": [
    "model = genai.GenerativeModel('gemini-pro')"
   ]
  },
  {
   "cell_type": "code",
   "execution_count": 85,
   "metadata": {},
   "outputs": [
    {
     "name": "stdout",
     "output_type": "stream",
     "text": [
      "CPU times: user 3 µs, sys: 1 µs, total: 4 µs\n",
      "Wall time: 4.77 µs\n"
     ]
    }
   ],
   "source": [
    "%%time\n",
    "\n",
    "def generate_response(content:str):\n",
    "    response = model.generate_content(f\"\"\"\n",
    "{SYSTEM_PROMPT}+{content}\n",
    "\"\"\")\n",
    "    return response"
   ]
  },
  {
   "cell_type": "code",
   "execution_count": 86,
   "metadata": {},
   "outputs": [],
   "source": [
    "response = generate_response(CONTEXT)"
   ]
  },
  {
   "cell_type": "code",
   "execution_count": 89,
   "metadata": {},
   "outputs": [],
   "source": [
    "SYSTEM_PROMPT = \"\"\"\n",
    "You are supposed to create  a dataset so refrain from outputting anything unnecessary .\n",
    "You are given pages of lecture slides from a curated collection. Ignore page numbers and personal information, extract the context.\n",
    "Generate  logical questions, correct answer and three incorrect answers suitable for mcq from the context text. \n",
    "Do not generate questions that go like from the lecture? in this lecture? etc.\n",
    "Go step by step.  final output should be in json format. json schema for the output is \n",
    "{\n",
    "    \"Output\": {\n",
    "        \"type\": \"object\",\n",
    "        \"properties\": {\n",
    "            \"question\": {\n",
    "                \"type\": \"string\"\n",
    "            },\n",
    "            \"correct_answer\": {\n",
    "                \"type\": \"string\"\n",
    "            },\n",
    "            \"incorrect_answers\": {\n",
    "                \"type\": \"array\",\n",
    "                \"items\": {\n",
    "                    \"type\": \"string\"\n",
    "                }\n",
    "            }\n",
    "        },\n",
    "        \"required\": [\"question\", \"correct_answer\", \"incorrect_answers\"]\n",
    "    }\n",
    "}\n",
    "\n",
    "\n",
    "\"\"\""
   ]
  },
  {
   "cell_type": "code",
   "execution_count": 82,
   "metadata": {},
   "outputs": [],
   "source": [
    "CONTEXT= \"\"\"\n",
    "Networked computers\n",
    "■Computers connected to each other\n",
    "–Wired connections using cables\n",
    "–Wireless using WIFI, 4G/5G \n",
    "■We will concentrate on wired arrangement\n",
    "4 Computer Systems Fundamentals - 4COSC004W\n",
    "\"\"\""
   ]
  },
  {
   "cell_type": "code",
   "execution_count": 87,
   "metadata": {},
   "outputs": [
    {
     "data": {
      "text/markdown": [
       "> {\n",
       ">  \"Output\": {\n",
       ">   \"question\": \"What type of connections are used to connect computers to each other?\",\n",
       ">   \"correct_answer\": \"Wired connections using cables or Wireless using WIFI, 4G/5G\",\n",
       ">   \"incorrect_answers\": [\n",
       ">    \"Bluetooth\",\n",
       ">    \"Infrared\",\n",
       ">    \"All of the above\"\n",
       ">   ]\n",
       ">  }\n",
       "> }"
      ],
      "text/plain": [
       "<IPython.core.display.Markdown object>"
      ]
     },
     "execution_count": 87,
     "metadata": {},
     "output_type": "execute_result"
    }
   ],
   "source": [
    "to_markdown(response.text)"
   ]
  },
  {
   "cell_type": "code",
   "execution_count": 41,
   "metadata": {},
   "outputs": [
    {
     "data": {
      "text/plain": [
       "['lecture 2 Part B 2020.pdf',\n",
       " 'Week09 - Tagged.pdf',\n",
       " 'Week07.pdf',\n",
       " 'Week04_lecture.pdf',\n",
       " 'Week03.pdf',\n",
       " 'PBS  Lecture (1).pdf',\n",
       " 'for_loop.pdf',\n",
       " 'Lists_Tuples_20_21.pdf',\n",
       " 'ListComprehensions21-22.pdf',\n",
       " 'functions_21-22_v2.pdf',\n",
       " 'CSF_Lecture_1_Part_1 of 2.pdf',\n",
       " 'Week05(1) - Tagged.pdf',\n",
       " 'string slices.pdf',\n",
       " 'Week02 (1).pdf',\n",
       " 'Range of Values (Unsigned)(1).pdf',\n",
       " '3 Images.pdf',\n",
       " '2 Character Codes .pdf',\n",
       " 'continue_break.pdf',\n",
       " 'Week10 - Tagged.pdf',\n",
       " 'DiskSector 0.pdf',\n",
       " '1 Data Storage.pdf',\n",
       " 'Binary Operations.pdf',\n",
       " 'RANGE_FUNCTION_21_22.pdf',\n",
       " 'stringFormatting.pdf',\n",
       " 'Week08 - Tagged.pdf',\n",
       " 'while_loops.pdf',\n",
       " 'CSF_Lecture_Operating Systems.pdf',\n",
       " 'strings.pdf',\n",
       " 'Signed Integers.pdf',\n",
       " 'CSF_IP Addressing.pdf',\n",
       " 'CSF_Lecture_1_Part_2 of 2.pdf',\n",
       " 'files_21-22.pdf',\n",
       " 'CSF_Lecture2.pdf',\n",
       " 'Dictionary.pdf',\n",
       " 'python-sqlite_21-21_V2.pdf',\n",
       " 'conditionsWeek3_20_21_v1.pdf',\n",
       " 'lecture 2 Part A 2020.pdf']"
      ]
     },
     "execution_count": 41,
     "metadata": {},
     "output_type": "execute_result"
    }
   ],
   "source": [
    "folder_path = './dataset/source/'\n",
    "pdfs = os.listdir(folder_path)\n",
    "pdfs"
   ]
  },
  {
   "cell_type": "code",
   "execution_count": 44,
   "metadata": {},
   "outputs": [],
   "source": [
    "\n",
    "import PyPDF2\n",
    "import pandas as pd\n",
    "\n",
    "def pdf_to_pandas_df(folder_path, pdfs):\n",
    "    all_pdfs = []\n",
    "    for pdf in pdfs:\n",
    "        with open(folder_path+pdf, 'rb') as file:\n",
    "            reader = PyPDF2.PdfReader(file)\n",
    "            data = {'Page':[page.extract_text() for page in reader.pages]}\n",
    "            df = pd.DataFrame(data)\n",
    "            all_pdfs.append(df)\n",
    "    df = pd.concat(all_pdfs, ignore_index=True)\n",
    "    return df\n",
    "\n",
    "\n",
    "# Example usage\n",
    "df = pdf_to_pandas_df(folder_path, pdfs)\n",
    "# print(pages)\n"
   ]
  },
  {
   "cell_type": "code",
   "execution_count": 100,
   "metadata": {},
   "outputs": [],
   "source": [
    "df = pd.read_csv('./dataset/filtered_dataset.csv')"
   ]
  },
  {
   "cell_type": "code",
   "execution_count": 99,
   "metadata": {},
   "outputs": [
    {
     "data": {
      "text/html": [
       "<div>\n",
       "<style scoped>\n",
       "    .dataframe tbody tr th:only-of-type {\n",
       "        vertical-align: middle;\n",
       "    }\n",
       "\n",
       "    .dataframe tbody tr th {\n",
       "        vertical-align: top;\n",
       "    }\n",
       "\n",
       "    .dataframe thead th {\n",
       "        text-align: right;\n",
       "    }\n",
       "</style>\n",
       "<table border=\"1\" class=\"dataframe\">\n",
       "  <thead>\n",
       "    <tr style=\"text-align: right;\">\n",
       "      <th></th>\n",
       "      <th>0</th>\n",
       "    </tr>\n",
       "  </thead>\n",
       "  <tbody>\n",
       "    <tr>\n",
       "      <th>0</th>\n",
       "      <td>{\\n    \"Output\": {\\n        \"question\": \"Which...</td>\n",
       "    </tr>\n",
       "  </tbody>\n",
       "</table>\n",
       "</div>"
      ],
      "text/plain": [
       "                                                   0\n",
       "0  {\\n    \"Output\": {\\n        \"question\": \"Which..."
      ]
     },
     "execution_count": 99,
     "metadata": {},
     "output_type": "execute_result"
    }
   ],
   "source": [
    "df"
   ]
  },
  {
   "cell_type": "code",
   "execution_count": 105,
   "metadata": {},
   "outputs": [
    {
     "name": "stderr",
     "output_type": "stream",
     "text": [
      "/tmp/ipykernel_11681/2204452987.py:6: FutureWarning: Series.__getitem__ treating keys as positions is deprecated. In a future version, integer keys will always be treated as labels (consistent with DataFrame behavior). To access a value by position, use `ser.iloc[pos]`\n",
      "  response = generate_response(row[0])\n"
     ]
    }
   ],
   "source": [
    "import time\n",
    "\n",
    "import pandas as pd\n",
    "\n",
    "def process_row(row):\n",
    "    response = generate_response(row[0])\n",
    "    time.sleep(1)\n",
    "    return response.text\n",
    "\n",
    "def gen_dataset(df):\n",
    "    df['Output'] = df.apply(process_row, axis=1)\n",
    "    return df\n",
    "\n",
    "df1 = gen_dataset(df)"
   ]
  },
  {
   "cell_type": "code",
   "execution_count": 106,
   "metadata": {},
   "outputs": [
    {
     "data": {
      "text/html": [
       "<div>\n",
       "<style scoped>\n",
       "    .dataframe tbody tr th:only-of-type {\n",
       "        vertical-align: middle;\n",
       "    }\n",
       "\n",
       "    .dataframe tbody tr th {\n",
       "        vertical-align: top;\n",
       "    }\n",
       "\n",
       "    .dataframe thead th {\n",
       "        text-align: right;\n",
       "    }\n",
       "</style>\n",
       "<table border=\"1\" class=\"dataframe\">\n",
       "  <thead>\n",
       "    <tr style=\"text-align: right;\">\n",
       "      <th></th>\n",
       "      <th>Summary\\n•Collections and Data Structure \\n•Arrays\\n•List, Queue, Map\\n•Searching and Sorting\\n•Linked List</th>\n",
       "      <th>102</th>\n",
       "      <th>Output</th>\n",
       "    </tr>\n",
       "  </thead>\n",
       "  <tbody>\n",
       "    <tr>\n",
       "      <th>0</th>\n",
       "      <td>11Lecture Self-Check Question \\nAssign a varia...</td>\n",
       "      <td>104.0</td>\n",
       "      <td>{\\n    \"Output\": {\\n        \"question\": \"Where...</td>\n",
       "    </tr>\n",
       "    <tr>\n",
       "      <th>1</th>\n",
       "      <td>•Give the program \\nadditional conditions. \\n•...</td>\n",
       "      <td>105.0</td>\n",
       "      <td>{\\n \"Output\": {\\n  \"question\": \"What type of r...</td>\n",
       "    </tr>\n",
       "    <tr>\n",
       "      <th>2</th>\n",
       "      <td>•Java Packages•The String Class•Using System.o...</td>\n",
       "      <td>106.0</td>\n",
       "      <td>{\\n    \"Output\": {\\n        \"question\": \"Which...</td>\n",
       "    </tr>\n",
       "    <tr>\n",
       "      <th>3</th>\n",
       "      <td>TYPES OF NETWORK\\nPeer-to-peer\\nClient-Server\\...</td>\n",
       "      <td>106.0</td>\n",
       "      <td>{\\n    \"Output\": {\\n        \"question\": \"Which...</td>\n",
       "    </tr>\n",
       "    <tr>\n",
       "      <th>4</th>\n",
       "      <td>Physical Topologies\\n6Bus\\nRing\\nStarExtended ...</td>\n",
       "      <td>107.0</td>\n",
       "      <td>{\\n    \"Output\": {\\n        \"question\": \"Which...</td>\n",
       "    </tr>\n",
       "    <tr>\n",
       "      <th>...</th>\n",
       "      <td>...</td>\n",
       "      <td>...</td>\n",
       "      <td>...</td>\n",
       "    </tr>\n",
       "    <tr>\n",
       "      <th>195</th>\n",
       "      <td>How can we improve our code?\\n•Validation : \\n...</td>\n",
       "      <td>215.0</td>\n",
       "      <td>{\\n    \"Output\": {\\n        \"question\": \"What ...</td>\n",
       "    </tr>\n",
       "    <tr>\n",
       "      <th>196</th>\n",
       "      <td>By the end of this unit you will:\\n■Understand...</td>\n",
       "      <td>215.0</td>\n",
       "      <td>{\\n    \"Output\": {\\n        \"question\": \"What ...</td>\n",
       "    </tr>\n",
       "    <tr>\n",
       "      <th>197</th>\n",
       "      <td>File Class\\n•Useful for retrieving information...</td>\n",
       "      <td>215.0</td>\n",
       "      <td>{\\n    \"Output\": {\\n        \"question\": \"What ...</td>\n",
       "    </tr>\n",
       "    <tr>\n",
       "      <th>198</th>\n",
       "      <td>Microcomputer\\n■OS needs to:\\n–Initialise the ...</td>\n",
       "      <td>215.0</td>\n",
       "      <td>{\\n    \"Output\": {\\n        \"question\": \"Accor...</td>\n",
       "    </tr>\n",
       "    <tr>\n",
       "      <th>199</th>\n",
       "      <td>Frames\\n•Frame is a window that is not contain...</td>\n",
       "      <td>216.0</td>\n",
       "      <td>{\\n  \"Output\": {\\n    \"question\": \" What is fr...</td>\n",
       "    </tr>\n",
       "  </tbody>\n",
       "</table>\n",
       "<p>200 rows × 3 columns</p>\n",
       "</div>"
      ],
      "text/plain": [
       "    Summary\\n•Collections and Data Structure \\n•Arrays\\n•List, Queue, Map\\n•Searching and Sorting\\n•Linked List  \\\n",
       "0    11Lecture Self-Check Question \\nAssign a varia...                                                            \n",
       "1    •Give the program \\nadditional conditions. \\n•...                                                            \n",
       "2    •Java Packages•The String Class•Using System.o...                                                            \n",
       "3    TYPES OF NETWORK\\nPeer-to-peer\\nClient-Server\\...                                                            \n",
       "4    Physical Topologies\\n6Bus\\nRing\\nStarExtended ...                                                            \n",
       "..                                                 ...                                                            \n",
       "195  How can we improve our code?\\n•Validation : \\n...                                                            \n",
       "196  By the end of this unit you will:\\n■Understand...                                                            \n",
       "197  File Class\\n•Useful for retrieving information...                                                            \n",
       "198  Microcomputer\\n■OS needs to:\\n–Initialise the ...                                                            \n",
       "199  Frames\\n•Frame is a window that is not contain...                                                            \n",
       "\n",
       "       102                                             Output  \n",
       "0    104.0  {\\n    \"Output\": {\\n        \"question\": \"Where...  \n",
       "1    105.0  {\\n \"Output\": {\\n  \"question\": \"What type of r...  \n",
       "2    106.0  {\\n    \"Output\": {\\n        \"question\": \"Which...  \n",
       "3    106.0  {\\n    \"Output\": {\\n        \"question\": \"Which...  \n",
       "4    107.0  {\\n    \"Output\": {\\n        \"question\": \"Which...  \n",
       "..     ...                                                ...  \n",
       "195  215.0  {\\n    \"Output\": {\\n        \"question\": \"What ...  \n",
       "196  215.0  {\\n    \"Output\": {\\n        \"question\": \"What ...  \n",
       "197  215.0  {\\n    \"Output\": {\\n        \"question\": \"What ...  \n",
       "198  215.0  {\\n    \"Output\": {\\n        \"question\": \"Accor...  \n",
       "199  216.0  {\\n  \"Output\": {\\n    \"question\": \" What is fr...  \n",
       "\n",
       "[200 rows x 3 columns]"
      ]
     },
     "execution_count": 106,
     "metadata": {},
     "output_type": "execute_result"
    }
   ],
   "source": [
    "df1"
   ]
  },
  {
   "cell_type": "code",
   "execution_count": 107,
   "metadata": {},
   "outputs": [],
   "source": [
    "df2 = pd.read_csv('./dataset/modified_dataset.csv')"
   ]
  },
  {
   "cell_type": "code",
   "execution_count": 108,
   "metadata": {},
   "outputs": [
    {
     "data": {
      "text/html": [
       "<div>\n",
       "<style scoped>\n",
       "    .dataframe tbody tr th:only-of-type {\n",
       "        vertical-align: middle;\n",
       "    }\n",
       "\n",
       "    .dataframe tbody tr th {\n",
       "        vertical-align: top;\n",
       "    }\n",
       "\n",
       "    .dataframe thead th {\n",
       "        text-align: right;\n",
       "    }\n",
       "</style>\n",
       "<table border=\"1\" class=\"dataframe\">\n",
       "  <thead>\n",
       "    <tr style=\"text-align: right;\">\n",
       "      <th></th>\n",
       "      <th>Source</th>\n",
       "      <th>Output</th>\n",
       "    </tr>\n",
       "  </thead>\n",
       "  <tbody>\n",
       "    <tr>\n",
       "      <th>0</th>\n",
       "      <td>11Lecture Self-Check Question \\nAssign a varia...</td>\n",
       "      <td>{\\n    \"Output\": {\\n        \"question\": \"Where...</td>\n",
       "    </tr>\n",
       "    <tr>\n",
       "      <th>1</th>\n",
       "      <td>•Give the program \\nadditional conditions. \\n•...</td>\n",
       "      <td>{\\n \"Output\": {\\n  \"question\": \"What type of r...</td>\n",
       "    </tr>\n",
       "    <tr>\n",
       "      <th>2</th>\n",
       "      <td>•Java Packages•The String Class•Using System.o...</td>\n",
       "      <td>{\\n    \"Output\": {\\n        \"question\": \"Which...</td>\n",
       "    </tr>\n",
       "    <tr>\n",
       "      <th>3</th>\n",
       "      <td>TYPES OF NETWORK\\nPeer-to-peer\\nClient-Server\\...</td>\n",
       "      <td>{\\n    \"Output\": {\\n        \"question\": \"Which...</td>\n",
       "    </tr>\n",
       "    <tr>\n",
       "      <th>4</th>\n",
       "      <td>Physical Topologies\\n6Bus\\nRing\\nStarExtended ...</td>\n",
       "      <td>{\\n    \"Output\": {\\n        \"question\": \"Which...</td>\n",
       "    </tr>\n",
       "  </tbody>\n",
       "</table>\n",
       "</div>"
      ],
      "text/plain": [
       "                                              Source  \\\n",
       "0  11Lecture Self-Check Question \\nAssign a varia...   \n",
       "1  •Give the program \\nadditional conditions. \\n•...   \n",
       "2  •Java Packages•The String Class•Using System.o...   \n",
       "3  TYPES OF NETWORK\\nPeer-to-peer\\nClient-Server\\...   \n",
       "4  Physical Topologies\\n6Bus\\nRing\\nStarExtended ...   \n",
       "\n",
       "                                              Output  \n",
       "0  {\\n    \"Output\": {\\n        \"question\": \"Where...  \n",
       "1  {\\n \"Output\": {\\n  \"question\": \"What type of r...  \n",
       "2  {\\n    \"Output\": {\\n        \"question\": \"Which...  \n",
       "3  {\\n    \"Output\": {\\n        \"question\": \"Which...  \n",
       "4  {\\n    \"Output\": {\\n        \"question\": \"Which...  "
      ]
     },
     "execution_count": 108,
     "metadata": {},
     "output_type": "execute_result"
    }
   ],
   "source": [
    "df2.head()"
   ]
  },
  {
   "cell_type": "code",
   "execution_count": null,
   "metadata": {},
   "outputs": [],
   "source": []
  }
 ],
 "metadata": {
  "kernelspec": {
   "display_name": "venv",
   "language": "python",
   "name": "python3"
  },
  "language_info": {
   "codemirror_mode": {
    "name": "ipython",
    "version": 3
   },
   "file_extension": ".py",
   "mimetype": "text/x-python",
   "name": "python",
   "nbconvert_exporter": "python",
   "pygments_lexer": "ipython3",
   "version": "3.11.7"
  }
 },
 "nbformat": 4,
 "nbformat_minor": 2
}
